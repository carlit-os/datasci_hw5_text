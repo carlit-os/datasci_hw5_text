{
 "cells": [
  {
   "cell_type": "markdown",
   "source": [
    "Libraries"
   ],
   "metadata": {
    "collapsed": false,
    "pycharm": {
     "name": "#%% md\n"
    }
   }
  },
  {
   "cell_type": "code",
   "execution_count": 1,
   "metadata": {},
   "outputs": [],
   "source": [
    "import json\n",
    "import pandas as pd\n",
    "import numpy as np\n",
    "from textblob import TextBlob"
   ]
  },
  {
   "cell_type": "markdown",
   "source": [
    "Load data"
   ],
   "metadata": {
    "collapsed": false,
    "pycharm": {
     "name": "#%% md\n"
    }
   }
  },
  {
   "cell_type": "code",
   "execution_count": 2,
   "outputs": [],
   "source": [
    "#Documents\n",
    "tip_path = \"/Users/Andy/Desktop/yelp_academic_dataset_tip.json\"\n",
    "tip_doc=open(tip_path, encoding=\"utf8\").readlines()\n",
    "\n",
    "business_path = \"/Users/Andy/Desktop/yelp_academic_dataset_business.json\"\n",
    "business_doc=open(business_path, encoding=\"utf8\").readlines()\n",
    "\n",
    "\n",
    "#Dataframes\n",
    "busList = []\n",
    "for bus in business_doc:\n",
    "    busList.append(json.loads(bus))\n",
    "\n",
    "dfBus = pd.DataFrame.from_records(busList)\n",
    "\n",
    "tipList = []\n",
    "for tip in tip_doc:\n",
    "    tipList.append(json.loads(tip))\n",
    "\n",
    "df_Bus = pd.DataFrame.from_records(busList)\n",
    "df_Tip = pd.DataFrame.from_records(tipList)\n",
    "\n",
    "df_comb = pd.merge(df_Bus, df_Tip, on='business_id', how='outer')\n",
    "df_comb=df_comb[df_comb['text'].notna()] # filter on empty tips"
   ],
   "metadata": {
    "collapsed": false,
    "pycharm": {
     "name": "#%%\n"
    }
   }
  },
  {
   "cell_type": "markdown",
   "metadata": {},
   "source": [
    "## Task 1"
   ]
  },
  {
   "cell_type": "markdown",
   "metadata": {},
   "source": [
    "#### Task 1a"
   ]
  },
  {
   "cell_type": "code",
   "execution_count": 3,
   "metadata": {},
   "outputs": [],
   "source": [
    "#TextBlob(df_comb.iloc[2][\"text\"]).sentiment\n",
    "#map TextBlob(df_comb.iloc[i][\"text\"]).sentiment and append as column\n",
    "\n",
    "df_comb['sentiment'] = df_comb[['text']].applymap(lambda tip: TextBlob(tip).sentiment.polarity)"
   ]
  },
  {
   "cell_type": "code",
   "execution_count": 5,
   "outputs": [
    {
     "data": {
      "text/plain": "              business_id                      name          address  \\\n0  f9NumwFMBDn751xgFiRbNA  The Range At Lake Norman  10913 Bailey Rd   \n1  f9NumwFMBDn751xgFiRbNA  The Range At Lake Norman  10913 Bailey Rd   \n2  f9NumwFMBDn751xgFiRbNA  The Range At Lake Norman  10913 Bailey Rd   \n\n        city state postal_code   latitude  longitude  stars  review_count  \\\n0  Cornelius    NC       28031  35.462724 -80.852612    3.5            36   \n1  Cornelius    NC       28031  35.462724 -80.852612    3.5            36   \n2  Cornelius    NC       28031  35.462724 -80.852612    3.5            36   \n\n   is_open                                         attributes  \\\n0        1  {'BusinessAcceptsCreditCards': 'True', 'BikePa...   \n1        1  {'BusinessAcceptsCreditCards': 'True', 'BikePa...   \n2        1  {'BusinessAcceptsCreditCards': 'True', 'BikePa...   \n\n                                          categories  \\\n0  Active Life, Gun/Rifle Ranges, Guns & Ammo, Sh...   \n1  Active Life, Gun/Rifle Ranges, Guns & Ammo, Sh...   \n2  Active Life, Gun/Rifle Ranges, Guns & Ammo, Sh...   \n\n                                               hours                 user_id  \\\n0  {'Monday': '10:0-18:0', 'Tuesday': '11:0-20:0'...  CZ517SU7uQDc3Aa17SN6Bw   \n1  {'Monday': '10:0-18:0', 'Tuesday': '11:0-20:0'...  M0DM77NUD5_w4EHuH2vZNg   \n2  {'Monday': '10:0-18:0', 'Tuesday': '11:0-20:0'...  46HhzhpBfTdTSB5ceTx_Og   \n\n                                                text                 date  \\\n0  Their prices are enormously inflated. I was ch...  2013-02-17 22:29:53   \n1     Go to  Eagle Guns or Point Blank Range instead  2013-09-26 21:43:54   \n2                                    Friendly staff!  2012-05-28 18:57:21   \n\n   compliment_count  sentiment  \n0               0.0    0.05500  \n1               0.0    0.00000  \n2               0.0    0.46875  ",
      "text/html": "<div>\n<style scoped>\n    .dataframe tbody tr th:only-of-type {\n        vertical-align: middle;\n    }\n\n    .dataframe tbody tr th {\n        vertical-align: top;\n    }\n\n    .dataframe thead th {\n        text-align: right;\n    }\n</style>\n<table border=\"1\" class=\"dataframe\">\n  <thead>\n    <tr style=\"text-align: right;\">\n      <th></th>\n      <th>business_id</th>\n      <th>name</th>\n      <th>address</th>\n      <th>city</th>\n      <th>state</th>\n      <th>postal_code</th>\n      <th>latitude</th>\n      <th>longitude</th>\n      <th>stars</th>\n      <th>review_count</th>\n      <th>is_open</th>\n      <th>attributes</th>\n      <th>categories</th>\n      <th>hours</th>\n      <th>user_id</th>\n      <th>text</th>\n      <th>date</th>\n      <th>compliment_count</th>\n      <th>sentiment</th>\n    </tr>\n  </thead>\n  <tbody>\n    <tr>\n      <th>0</th>\n      <td>f9NumwFMBDn751xgFiRbNA</td>\n      <td>The Range At Lake Norman</td>\n      <td>10913 Bailey Rd</td>\n      <td>Cornelius</td>\n      <td>NC</td>\n      <td>28031</td>\n      <td>35.462724</td>\n      <td>-80.852612</td>\n      <td>3.5</td>\n      <td>36</td>\n      <td>1</td>\n      <td>{'BusinessAcceptsCreditCards': 'True', 'BikePa...</td>\n      <td>Active Life, Gun/Rifle Ranges, Guns &amp; Ammo, Sh...</td>\n      <td>{'Monday': '10:0-18:0', 'Tuesday': '11:0-20:0'...</td>\n      <td>CZ517SU7uQDc3Aa17SN6Bw</td>\n      <td>Their prices are enormously inflated. I was ch...</td>\n      <td>2013-02-17 22:29:53</td>\n      <td>0.0</td>\n      <td>0.05500</td>\n    </tr>\n    <tr>\n      <th>1</th>\n      <td>f9NumwFMBDn751xgFiRbNA</td>\n      <td>The Range At Lake Norman</td>\n      <td>10913 Bailey Rd</td>\n      <td>Cornelius</td>\n      <td>NC</td>\n      <td>28031</td>\n      <td>35.462724</td>\n      <td>-80.852612</td>\n      <td>3.5</td>\n      <td>36</td>\n      <td>1</td>\n      <td>{'BusinessAcceptsCreditCards': 'True', 'BikePa...</td>\n      <td>Active Life, Gun/Rifle Ranges, Guns &amp; Ammo, Sh...</td>\n      <td>{'Monday': '10:0-18:0', 'Tuesday': '11:0-20:0'...</td>\n      <td>M0DM77NUD5_w4EHuH2vZNg</td>\n      <td>Go to  Eagle Guns or Point Blank Range instead</td>\n      <td>2013-09-26 21:43:54</td>\n      <td>0.0</td>\n      <td>0.00000</td>\n    </tr>\n    <tr>\n      <th>2</th>\n      <td>f9NumwFMBDn751xgFiRbNA</td>\n      <td>The Range At Lake Norman</td>\n      <td>10913 Bailey Rd</td>\n      <td>Cornelius</td>\n      <td>NC</td>\n      <td>28031</td>\n      <td>35.462724</td>\n      <td>-80.852612</td>\n      <td>3.5</td>\n      <td>36</td>\n      <td>1</td>\n      <td>{'BusinessAcceptsCreditCards': 'True', 'BikePa...</td>\n      <td>Active Life, Gun/Rifle Ranges, Guns &amp; Ammo, Sh...</td>\n      <td>{'Monday': '10:0-18:0', 'Tuesday': '11:0-20:0'...</td>\n      <td>46HhzhpBfTdTSB5ceTx_Og</td>\n      <td>Friendly staff!</td>\n      <td>2012-05-28 18:57:21</td>\n      <td>0.0</td>\n      <td>0.46875</td>\n    </tr>\n  </tbody>\n</table>\n</div>"
     },
     "execution_count": 5,
     "metadata": {},
     "output_type": "execute_result"
    }
   ],
   "source": [
    "df_comb.head(3)"
   ],
   "metadata": {
    "collapsed": false,
    "pycharm": {
     "name": "#%%\n"
    }
   }
  },
  {
   "cell_type": "markdown",
   "metadata": {},
   "source": [
    "#### Task 1b"
   ]
  },
  {
   "cell_type": "code",
   "execution_count": 3,
   "metadata": {},
   "outputs": [],
   "source": []
  },
  {
   "cell_type": "markdown",
   "metadata": {},
   "source": [
    "#### Task 1c"
   ]
  },
  {
   "cell_type": "code",
   "execution_count": 4,
   "metadata": {},
   "outputs": [
    {
     "ename": "ModuleNotFoundError",
     "evalue": "No module named 'plotly'",
     "output_type": "error",
     "traceback": [
      "\u001B[0;31m---------------------------------------------------------------------------\u001B[0m",
      "\u001B[0;31mModuleNotFoundError\u001B[0m                       Traceback (most recent call last)",
      "\u001B[0;32m<ipython-input-4-a9096698cfba>\u001B[0m in \u001B[0;36m<module>\u001B[0;34m\u001B[0m\n\u001B[0;32m----> 1\u001B[0;31m \u001B[0;32mimport\u001B[0m \u001B[0mplotly\u001B[0m\u001B[0;34m\u001B[0m\u001B[0;34m\u001B[0m\u001B[0m\n\u001B[0m\u001B[1;32m      2\u001B[0m \u001B[0;31m#plotly.offline.plot(fig, filename='map.html')\u001B[0m\u001B[0;34m\u001B[0m\u001B[0;34m\u001B[0m\u001B[0;34m\u001B[0m\u001B[0m\n\u001B[1;32m      3\u001B[0m \u001B[0;34m\u001B[0m\u001B[0m\n",
      "\u001B[0;31mModuleNotFoundError\u001B[0m: No module named 'plotly'"
     ]
    }
   ],
   "source": [
    "import plotly\n",
    "#plotly.offline.plot(fig, filename='map.html')"
   ]
  },
  {
   "cell_type": "markdown",
   "metadata": {},
   "source": [
    "## Task 2"
   ]
  },
  {
   "cell_type": "markdown",
   "metadata": {},
   "source": [
    "#### Task 2a"
   ]
  },
  {
   "cell_type": "code",
   "execution_count": 6,
   "metadata": {},
   "outputs": [],
   "source": [
    "state_map = {\n",
    "    \"AL\": \"Alabama\", \"AK\": \"Alaska\", \"AZ\": \"Arizona\", \"AR\": \"Arkansas\", \"CA\": \"California\", \"CO\": \"Colorado\",\n",
    "    \"CT\": \"Connecticut\", \"DE\": \"Delaware\", \"DC\": \"Washington, D.C.\", \"FL\": \"Florida\", \"GA\": \"Georgia\",\n",
    "    \"HI\": \"Hawaii\", \"ID\": \"Idaho\", \"IL\": \"Illinois\", \"IN\": \"Indiana\", \"IA\": \"Iowa\", \"KS\": \"Kansas\",\n",
    "    \"KY\": \"Kentucky\", \"LA\": \"Louisiana\", \"ME\": \"Maine\", \"MD\": \"Maryland\", \"MA\": \"Massachusetts\",\n",
    "    \"MI\": \"Michigan\", \"MN\": \"Minnesota\", \"MS\": \"Mississippi\", \"MO\": \"Missouri\", \"MT\": \"Montana\",\n",
    "    \"NE\": \"Nebraska\", \"NV\": \"Nevada\", \"NH\": \"New Hampshire\", \"NJ\": \"New Jersey\", \"NM\": \"New Mexico\", \"NY\": \"New York\",\n",
    "    \"NC\": \"North Carolina\", \"ND\": \"North Dakota\", \"OH\": \"Ohio\", \"OK\": \"Oklahoma\", \"OR\": \"Oregon\",\n",
    "    \"PA\": \"Pennsylvania\", \"RI\": \"Rhode Island\", \"SC\": \"South Carolina\", \"SD\": \"South Dakota\",\n",
    "    \"TN\": \"Tennessee\", \"TX\": \"Texas\", \"UT\": \"Utah\", \"VT\": \"Vermont\", \"VA\": \"Virginia\", \"WA\": \"Washington\",\n",
    "    \"WV\": \"West Virginia\", \"WI\": \"Wisconsin\", \"WY\": \"Wyoming\"\n",
    "}\n"
   ]
  },
  {
   "cell_type": "markdown",
   "metadata": {},
   "source": [
    "#### Task 2b"
   ]
  },
  {
   "cell_type": "code",
   "execution_count": null,
   "metadata": {},
   "outputs": [],
   "source": []
  },
  {
   "cell_type": "markdown",
   "metadata": {},
   "source": [
    "#### Task 2c"
   ]
  },
  {
   "cell_type": "code",
   "execution_count": null,
   "metadata": {},
   "outputs": [],
   "source": []
  }
 ],
 "metadata": {
  "kernelspec": {
   "display_name": "Python 3",
   "language": "python",
   "name": "python3"
  },
  "language_info": {
   "codemirror_mode": {
    "name": "ipython",
    "version": 3
   },
   "file_extension": ".py",
   "mimetype": "text/x-python",
   "name": "python",
   "nbconvert_exporter": "python",
   "pygments_lexer": "ipython3",
   "version": "3.8.5"
  }
 },
 "nbformat": 4,
 "nbformat_minor": 4
}