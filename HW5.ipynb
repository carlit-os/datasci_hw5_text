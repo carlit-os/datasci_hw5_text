{
 "cells": [
  {
   "cell_type": "markdown",
   "source": [
    "Libraries"
   ],
   "metadata": {
    "collapsed": false,
    "pycharm": {
     "name": "#%% md\n"
    }
   }
  },
  {
   "cell_type": "code",
   "execution_count": 32,
   "metadata": {},
   "outputs": [],
   "source": [
    "import json\n",
    "import pandas as pd\n",
    "import numpy as np\n",
    "from textblob import TextBlob\n",
    "from sklearn.feature_extraction.text import TfidfVectorizer\n",
    "from sklearn.linear_model import LogisticRegression\n",
    "from sklearn.model_selection import cross_validate\n",
    "from sklearn.model_selection import cross_val_score\n",
    " "
   ]
  },
  {
   "cell_type": "markdown",
   "source": [
    "Load data"
   ],
   "metadata": {
    "collapsed": false,
    "pycharm": {
     "name": "#%% md\n"
    }
   }
  },
  {
   "cell_type": "code",
   "execution_count": null,
   "outputs": [],
   "source": [
    "#Documents\n",
    "#tip_path = \"/Users/Andy/Desktop/yelp_academic_dataset_tip.json\"\n",
    "tip_path=\"../../yelp_dataset/yelp_academic_dataset_tip.json\"\n",
    "tip_doc=open(tip_path,encoding=\"utf8\").readlines()\n",
    "\n",
    "business_path=\"../../yelp_dataset/yelp_academic_dataset_business.json\"\n",
    "business_doc=open(business_path,encoding=\"utf8\").readlines()\n",
    "\n",
    "\n",
    "\n",
    "#Dataframes\n",
    "busList = []\n",
    "for bus in business_doc:\n",
    "    busList.append(json.loads(bus))\n",
    "\n",
    "dfBus = pd.DataFrame.from_records(busList)\n",
    "\n",
    "tipList = []\n",
    "for tip in tip_doc:\n",
    "    tipList.append(json.loads(tip))\n",
    "\n",
    "df_Bus = pd.DataFrame.from_records(busList)\n",
    "df_Tip = pd.DataFrame.from_records(tipList)\n",
    "\n",
    "df_comb = pd.merge(df_Bus, df_Tip, on='business_id', how='outer')\n",
    "df_comb=df_comb[df_comb['text'].notna()] # filter on empty tips"
   ],
   "metadata": {
    "collapsed": false,
    "pycharm": {
     "name": "#%%\n"
    }
   }
  },
  {
   "cell_type": "markdown",
   "metadata": {},
   "source": [
    "## Task 1"
   ]
  },
  {
   "cell_type": "markdown",
   "metadata": {},
   "source": [
    "#### Task 1a"
   ]
  },
  {
   "cell_type": "code",
   "execution_count": null,
   "metadata": {},
   "outputs": [],
   "source": [
    "#TextBlob(df_comb.iloc[2][\"text\"]).sentiment\n",
    "#map TextBlob(df_comb.iloc[i][\"text\"]).sentiment and append as column\n",
    "\n",
    "df_comb['sentiment'] = df_comb[['text']].applymap(lambda tip: TextBlob(tip).sentiment.polarity)"
   ]
  },
  {
   "cell_type": "code",
   "execution_count": null,
   "outputs": [],
   "source": [
    "df_comb.head(3)"
   ],
   "metadata": {
    "collapsed": false,
    "pycharm": {
     "name": "#%%\n"
    }
   }
  },
  {
   "cell_type": "markdown",
   "metadata": {},
   "source": [
    "#### Task 1b"
   ]
  },
  {
   "cell_type": "code",
   "execution_count": null,
   "metadata": {},
   "outputs": [],
   "source": [
    "df_sentiment_by_state = df_comb.groupby(\"state\",as_index=False)['sentiment'].mean()\n"
   ]
  },
  {
   "cell_type": "code",
   "execution_count": null,
   "metadata": {
    "tags": []
   },
   "outputs": [],
   "source": [
    "print(\"Mean Sentiment by State\")\n",
    "print(\"\")\n",
    "\n",
    "#filter out candadian provinces\n",
    "states = [\"AL\", \"AK\", \"AZ\", \"AR\", \"CA\", \"CO\", \"CT\", \"DC\", \"DE\", \"FL\", \"GA\", \n",
    "          \"HI\", \"ID\", \"IL\", \"IN\", \"IA\", \"KS\", \"KY\", \"LA\", \"ME\", \"MD\", \n",
    "          \"MA\", \"MI\", \"MN\", \"MS\", \"MO\", \"MT\", \"NE\", \"NV\", \"NH\", \"NJ\", \n",
    "          \"NM\", \"NY\", \"NC\", \"ND\", \"OH\", \"OK\", \"OR\", \"PA\", \"RI\", \"SC\", \n",
    "          \"SD\", \"TN\", \"TX\", \"UT\", \"VT\", \"VA\", \"WA\", \"WV\", \"WI\", \"WY\"]\n",
    "\n",
    "df_sentiment_by_USstate = df_sentiment_by_state[df_sentiment_by_state['state'].isin(states)]\n",
    "print(df_sentiment_by_USstate)"
   ]
  },
  {
   "cell_type": "markdown",
   "metadata": {},
   "source": [
    "#### Task 1c"
   ]
  },
  {
   "cell_type": "code",
   "execution_count": null,
   "metadata": {
    "tags": []
   },
   "outputs": [],
   "source": [
    "import plotly\n",
    "import plotly.graph_objects as go\n",
    "#plotly.offline.plot(fig, filename='map.html')\n"
   ]
  },
  {
   "cell_type": "code",
   "execution_count": null,
   "metadata": {},
   "outputs": [],
   "source": [
    "fig=go.Figure(data=go.Choropleth(\n",
    "    locations=df_sentiment_by_USstate[\"state\"],\n",
    "    z=df_sentiment_by_USstate['sentiment'].astype(float),\n",
    "    locationmode='USA-states',\n",
    "    colorscale='Bluered',\n",
    "    colorbar_title=\"Sentiment\",\n",
    ")\n",
    ")\n",
    "\n",
    "fig.update_layout(\n",
    "    title_text='Mean Yelp Tip Seniment Analisis',\n",
    "    geo_scope='usa'\n",
    ")\n",
    "fig.show()"
   ]
  },
  {
   "cell_type": "markdown",
   "metadata": {},
   "source": [
    "## Task 2"
   ]
  },
  {
   "cell_type": "markdown",
   "metadata": {},
   "source": [
    "#### Task 2a"
   ]
  },
  {
   "cell_type": "code",
   "execution_count": null,
   "metadata": {},
   "outputs": [],
   "source": [
    "df_AZ = df_Bus[df_Bus[\"state\"]==\"AZ\"]\n",
    "df_AZ=df_AZ[df_AZ['categories'].notna()]\n",
    "\n",
    "df_AZ['is_restaurant'] = df_AZ[['categories']].applymap(lambda cat_list: \"Restaurants\" in cat_list)\n",
    "\n",
    "df_tip_restaurant=pd.merge(df_AZ,df_Tip, on='business_id',how='left')\n",
    "df_tip_restaurant=df_tip_restaurant[df_tip_restaurant['text'].notna()] # filter on empty tips\n",
    "\n",
    "df_tip_restaurant=df_tip_restaurant[['text','is_restaurant']]\n",
    "\n"
   ]
  },
  {
   "cell_type": "markdown",
   "metadata": {},
   "source": [
    "#### Task 2b"
   ]
  },
  {
   "cell_type": "code",
   "execution_count": 33,
   "metadata": {
    "tags": []
   },
   "outputs": [
    {
     "output_type": "stream",
     "name": "stdout",
     "text": "There are 60142 features\n"
    }
   ],
   "source": [
    "#generate feature matrix\n",
    "corpus = df_tip_restaurant['text']\n",
    "vectorizer=TfidfVectorizer(stop_words='english')\n",
    "X=vectorizer.fit_transform(corpus)\n",
    "y=df_tip_restaurant['is_restaurant']\n",
    "print(\"There are %.0f features\"%len(vectorizer.get_feature_names()))\n"
   ]
  },
  {
   "cell_type": "code",
   "execution_count": 36,
   "metadata": {
    "tags": []
   },
   "outputs": [
    {
     "output_type": "stream",
     "name": "stdout",
     "text": "The mean cross validation score of a logisric regression is 0.909 \n"
    }
   ],
   "source": [
    "logreg=LogisticRegression()\n",
    "\n",
    "cv_results=cross_val_score(logreg,X,y,cv=3,scoring='roc_auc')\n",
    "print(\"The mean cross validation score of a logisric regression is %.3f \"%cv_results.mean())\n"
   ]
  },
  {
   "cell_type": "markdown",
   "metadata": {},
   "source": [
    "#### Task 2c"
   ]
  },
  {
   "cell_type": "code",
   "execution_count": null,
   "metadata": {},
   "outputs": [],
   "source": []
  }
 ],
 "metadata": {
  "kernelspec": {
   "display_name": "Python 3.7.3 64-bit",
   "language": "python",
   "name": "python_defaultSpec_1614743234228"
  },
  "language_info": {
   "codemirror_mode": {
    "name": "ipython",
    "version": 3
   },
   "file_extension": ".py",
   "mimetype": "text/x-python",
   "name": "python",
   "nbconvert_exporter": "python",
   "pygments_lexer": "ipython3",
   "version": "3.7.3-final"
  }
 },
 "nbformat": 4,
 "nbformat_minor": 4
}